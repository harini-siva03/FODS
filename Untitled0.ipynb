{
  "nbformat": 4,
  "nbformat_minor": 0,
  "metadata": {
    "colab": {
      "provenance": [],
      "authorship_tag": "ABX9TyPIeDx2J+iJEy7wlImrb2O3",
      "include_colab_link": true
    },
    "kernelspec": {
      "name": "python3",
      "display_name": "Python 3"
    },
    "language_info": {
      "name": "python"
    }
  },
  "cells": [
    {
      "cell_type": "markdown",
      "metadata": {
        "id": "view-in-github",
        "colab_type": "text"
      },
      "source": [
        "<a href=\"https://colab.research.google.com/github/harini-siva03/FODS/blob/main/Untitled0.ipynb\" target=\"_parent\"><img src=\"https://colab.research.google.com/assets/colab-badge.svg\" alt=\"Open In Colab\"/></a>"
      ]
    },
    {
      "cell_type": "code",
      "execution_count": 1,
      "metadata": {
        "id": "QBY-T0si6bXb"
      },
      "outputs": [],
      "source": [
        "import pandas as pd\n",
        "import numpy as np\n",
        "import matplotlib.pyplot as plt"
      ]
    },
    {
      "cell_type": "code",
      "source": [
        "df = pd.read_csv(\"choclate protfolio project - 11.csv\")\n",
        "print(df.head())"
      ],
      "metadata": {
        "colab": {
          "base_uri": "https://localhost:8080/"
        },
        "collapsed": true,
        "id": "jftu1D267Mk1",
        "outputId": "8050edb1-354f-47bd-f3dc-89a0a62d4db1"
      },
      "execution_count": 2,
      "outputs": [
        {
          "output_type": "stream",
          "name": "stdout",
          "text": [
            "     Sales Person    Geography               Product   Amount  Units  \\\n",
            "0      Ram Mahesh  New Zealand        70% Dark Bites  $1,624     114   \n",
            "1     Brien Boise          USA  Choco Coated Almonds  $6,706     459   \n",
            "2    Husein Augar          USA          Almond Choco    $959     147   \n",
            "3    Carla Molina       Canada         Drinking Coco  $9,632     288   \n",
            "4  Curtice Advani           UK            White Choc  $2,100     414   \n",
            "\n",
            "   cost per unit   Cost    Profit profit %  \n",
            "0             14  1,652     ($28)      -2%  \n",
            "1              9  3,970   $2,736       41%  \n",
            "2             12  1,746    ($787)     -82%  \n",
            "3              6  1,863   $7,769       81%  \n",
            "4             13  5,444  ($3,344)    -159%  \n"
          ]
        }
      ]
    },
    {
      "cell_type": "code",
      "source": [
        "#identify the features\n",
        "features = df.columns\n",
        "print(features)"
      ],
      "metadata": {
        "colab": {
          "base_uri": "https://localhost:8080/"
        },
        "collapsed": true,
        "id": "LnwOCPw67Zih",
        "outputId": "f236dca4-a94d-4af5-bbe2-6ddd769f6850"
      },
      "execution_count": 3,
      "outputs": [
        {
          "output_type": "stream",
          "name": "stdout",
          "text": [
            "Index(['Sales Person', 'Geography', 'Product', 'Amount', 'Units',\n",
            "       'cost per unit', 'Cost', 'Profit', 'profit %'],\n",
            "      dtype='object')\n"
          ]
        }
      ]
    },
    {
      "cell_type": "code",
      "source": [
        "#identify the datatypes\n",
        "data_types=df.dtypes\n",
        "print(data_types)\n"
      ],
      "metadata": {
        "colab": {
          "base_uri": "https://localhost:8080/"
        },
        "collapsed": true,
        "id": "eN67eYkD7jTT",
        "outputId": "91d1bad7-cf82-4d67-a99b-495ff81d681e"
      },
      "execution_count": 5,
      "outputs": [
        {
          "output_type": "stream",
          "name": "stdout",
          "text": [
            "Sales Person     object\n",
            "Geography        object\n",
            "Product          object\n",
            "Amount           object\n",
            "Units             int64\n",
            "cost per unit     int64\n",
            "Cost             object\n",
            "Profit           object\n",
            "profit %         object\n",
            "dtype: object\n"
          ]
        }
      ]
    },
    {
      "cell_type": "code",
      "source": [
        "#summary\n",
        "summary=df.describe()\n",
        "print(summary)"
      ],
      "metadata": {
        "colab": {
          "base_uri": "https://localhost:8080/"
        },
        "collapsed": true,
        "id": "H4adQbni70_-",
        "outputId": "4ee9c176-0b70-43a8-f9ec-60bc03afac13"
      },
      "execution_count": 7,
      "outputs": [
        {
          "output_type": "stream",
          "name": "stdout",
          "text": [
            "            Units  cost per unit\n",
            "count  300.000000     300.000000\n",
            "mean   152.200000       9.473333\n",
            "std    118.099499       3.457717\n",
            "min      0.000000       3.000000\n",
            "25%     54.000000       6.000000\n",
            "50%    124.500000       9.000000\n",
            "75%    220.500000      12.000000\n",
            "max    525.000000      17.000000\n"
          ]
        }
      ]
    }
  ]
}